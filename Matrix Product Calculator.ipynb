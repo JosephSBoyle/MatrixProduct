{
 "cells": [
  {
   "cell_type": "markdown",
   "metadata": {},
   "source": [
    "## Matrix Multiplication"
   ]
  },
  {
   "cell_type": "code",
   "execution_count": 9,
   "metadata": {},
   "outputs": [],
   "source": [
    "from numpy import array, shape, empty"
   ]
  },
  {
   "cell_type": "code",
   "execution_count": 19,
   "metadata": {},
   "outputs": [
    {
     "name": "stdout",
     "output_type": "stream",
     "text": [
      "[[6. 1. 3.]\n",
      " [4. 1. 2.]\n",
      " [2. 2. 2.]]\n",
      "\n",
      "[[14.]]\n"
     ]
    }
   ],
   "source": [
    "A = array([[1,2,0],\n",
    "           [1,1,0],\n",
    "           [0,1,1]],)\n",
    "\n",
    "B = array([[2,1,1],\n",
    "           [2,0,1],\n",
    "           [0,2,1]])\n",
    "\n",
    "A1 = array([[1,2,3]])\n",
    "B1 = array([[1],\n",
    "            [2],\n",
    "            [3]])\n",
    "\n",
    "def dotproduct(A, B):\n",
    "    '''\n",
    "    returns: dot product of matrices A and B with shape [i,j]\n",
    "    '''\n",
    "    i,k = shape(A) # rows \n",
    "    j = shape(B)[1] # cols\n",
    "    product = empty(i*j).reshape(i, j) # initialize empty matrix\n",
    "    \n",
    "    for row in range(i): \n",
    "        for col in range(j): \n",
    "            product[row,col] = sum([A[row,k]*B[k,col] for k in range(k)])\n",
    "            # vector multiplication and summation\n",
    "    \n",
    "    return product\n",
    "\n",
    "print(f'{dotproduct(A,B)}\\n\\n{dotproduct(A1,B1)}')"
   ]
  }
 ],
 "metadata": {
  "kernelspec": {
   "display_name": "Python 3",
   "language": "python",
   "name": "python3"
  }
 },
 "nbformat": 4,
 "nbformat_minor": 2
}
